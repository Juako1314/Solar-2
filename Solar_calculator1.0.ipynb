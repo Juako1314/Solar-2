{
  "nbformat": 4,
  "nbformat_minor": 0,
  "metadata": {
    "colab": {
      "provenance": [],
      "authorship_tag": "ABX9TyO0pB+1dsHlztfqNtmic53l",
      "include_colab_link": true
    },
    "kernelspec": {
      "name": "python3",
      "display_name": "Python 3"
    },
    "language_info": {
      "name": "python"
    }
  },
  "cells": [
    {
      "cell_type": "markdown",
      "metadata": {
        "id": "view-in-github",
        "colab_type": "text"
      },
      "source": [
        "<a href=\"https://colab.research.google.com/github/Juako1314/Solar-2/blob/main/Solar_calculator1.0.ipynb\" target=\"_parent\"><img src=\"https://colab.research.google.com/assets/colab-badge.svg\" alt=\"Open In Colab\"/></a>"
      ]
    },
    {
      "cell_type": "code",
      "execution_count": 2,
      "metadata": {
        "id": "kVFI7bDe1e5f"
      },
      "outputs": [],
      "source": [
        "%%capture\n",
        "!pip install gradio"
      ]
    },
    {
      "cell_type": "code",
      "source": [
        "import gradio as gr\n",
        "import math as mt\n",
        "\n",
        "def geometria_solar(dia, hlhr, hlmin, hlseg, GMT, longrados, lonminutos, lonsegundos, es_oes, latgrados, latminutos, latsegundos, Nor_sur):\n",
        "    hora_local = hlhr + (hlmin/60) + (hlseg / 3600)\n",
        "    Longitud = longrados + (lonminutos / 60) + (lonsegundos / 3600)\n",
        "    Latitud = latgrados + (latminutos / 60) + (latsegundos / 3600)\n",
        "\n",
        "    #Calcula la fraccion de año en radianes\n",
        "    año_fraccional =((2*mt.pi)/365)*(dia-1+((hora_local-12)/24))\n",
        "\n",
        "    #Calcula la declinacion solar\n",
        "    Declinacion_solar_rad =0.006918-0.399912*mt.cos(año_fraccional)+0.070257*mt.sin(año_fraccional)-0.006758*mt.cos(2*año_fraccional)+0.000907*mt.sin(2*año_fraccional)-0.002697*mt.cos(3*año_fraccional)+0.00148*mt.sin(3*año_fraccional)\n",
        "    Declinacion_solar_grados = Declinacion_solar_rad * (180/mt.pi)\n",
        "\n",
        "    #Calcula la ecuacion del tiempo\n",
        "    Ecuacion_del_tiempo = 229.18*(0.000075+0.001868*mt.cos(año_fraccional)-0.032077*mt.sin(año_fraccional)-0.014615*mt.cos(2*año_fraccional)-0.040849*mt.sin(2*año_fraccional))\n",
        "    min = int(Ecuacion_del_tiempo)\n",
        "    segs = int((Ecuacion_del_tiempo - min) * 60)\n",
        "\n",
        "    if es_oes == True:\n",
        "        nl = Longitud\n",
        "    else:\n",
        "        nl = -Longitud\n",
        "\n",
        "    offset = Ecuacion_del_tiempo+4*nl-60*GMT\n",
        "\n",
        "    #Calcula el tiempo solar\n",
        "    Tiempo_solar = hlhr*60 + hlmin + hlseg/60 + offset\n",
        "    tshr = int(Tiempo_solar/60)\n",
        "    tsmin = int((Tiempo_solar/60 - int(Tiempo_solar/60))*60)\n",
        "    tsseg = int(((Tiempo_solar/60 - int(Tiempo_solar/60))*60 - int((Tiempo_solar/60 - int(Tiempo_solar/60))*60))*60)\n",
        "\n",
        "    #Hora angular\n",
        "    Hora_angular_grados = (Tiempo_solar/4)-180\n",
        "    Hora_angular_rad = Hora_angular_grados * (mt.pi/180)\n",
        "\n",
        "    if Nor_sur == True:\n",
        "        nlat = Latitud\n",
        "    else:\n",
        "        nlat = -Latitud\n",
        "\n",
        "    #Calcula el angulo cenital\n",
        "    Angulo_cenital_rad = mt.acos((mt.sin(nlat*(mt.pi/180))*mt.sin(Declinacion_solar_rad))+mt.cos(nlat*(mt.pi/180))*mt.cos(Declinacion_solar_rad)*mt.cos(Hora_angular_rad))\n",
        "    Angulo_cenital_grados = Angulo_cenital_rad * (180/mt.pi)\n",
        "\n",
        "    #Calcula el angulo acimutal\n",
        "    Angulo_acimutal_grados = -(mt.acos((mt.sin(nlat*(mt.pi/180))*mt.cos(Angulo_cenital_rad) - mt.sin(Declinacion_solar_rad))/(mt.cos(nlat*(mt.pi/180))*mt.sin(Angulo_cenital_rad))))*(180/mt.pi) + 180\n",
        "\n",
        "    #Calcula el amanecer\n",
        "    ha = (mt.acos((mt.cos(90.833*(mt.pi/180))/(mt.cos(nlat*(mt.pi/180))*mt.cos(Declinacion_solar_rad)))-mt.tan(nlat*(mt.pi/180))*mt.tan(Declinacion_solar_rad)))*(180/mt.pi)\n",
        "    Amanecer = (720 - 4 * (nl + ha) - Ecuacion_del_tiempo) + (GMT * 60)\n",
        "    Amhr = int(Amanecer/60)\n",
        "    Ammin = int((Amanecer/60 - int(Amanecer/60))*60)\n",
        "    Amseg = int(((Amanecer/60 - int(Amanecer/60))*60 - int((Amanecer/60 - int(Amanecer/60))*60))*60)\n",
        "\n",
        "    #Calcula el atardecer\n",
        "    haa = (-mt.acos((mt.cos(90.833*(mt.pi/180))/(mt.cos(nlat*(mt.pi/180))*mt.cos(Declinacion_solar_rad)))-mt.tan(nlat*(mt.pi/180))*mt.tan(Declinacion_solar_rad)))*(180/mt.pi)\n",
        "    Atardecer = (720 - 4 * (nl + haa) - Ecuacion_del_tiempo) + (GMT * 60)\n",
        "    Athr = int(Atardecer/60)\n",
        "    Atmin = int((Atardecer/60 - int(Atardecer/60))*60)\n",
        "    Atseg = int(((Atardecer/60 - int(Atardecer/60))*60 - int((Atardecer/60 - int(Atardecer/60))*60))*60)\n",
        "    #Calcula las 12 solares\n",
        "    Mediodia = (720 - 4 * nl - Ecuacion_del_tiempo) + (GMT * 60)\n",
        "    Mehr = int(Mediodia/60)\n",
        "    Memin = int((Mediodia/60 - int(Mediodia/60))*60)\n",
        "    Meseg = int(((Mediodia/60 - int(Mediodia/60))*60 - int((Mediodia/60 - int(Mediodia/60))*60))*60)\n",
        "\n",
        "    #Calcula los angulos de inclinacion tomando en cuenta solamente la radiacion directa\n",
        "    l = []\n",
        "    x = 0\n",
        "    for i in range(1, 361):\n",
        "        fracc =((2*mt.pi)/365)*(i-1+((hora_local-12)/24))\n",
        "        dsg = (0.006918-0.399912*mt.cos(fracc)+0.070257*mt.sin(fracc)-0.006758*mt.cos(2*fracc)+0.000907*mt.sin(2*fracc)-0.002697*mt.cos(3*fracc)+0.00148*mt.sin(3*fracc))*(180/mt.pi)\n",
        "        x += dsg\n",
        "\n",
        "        if i % 30 == 0:\n",
        "            prom = x / 30\n",
        "            l.append(prom)\n",
        "            x = 0\n",
        "        else:\n",
        "            continue\n",
        "    print(l)\n",
        "    for i in range(12):\n",
        "        l[i] = nlat - l[i]\n",
        "    print(l)\n",
        "\n",
        "    Enero = l[0]\n",
        "    Febrero = l[1]\n",
        "    Marzo = l[2]\n",
        "    Abril = l[3]\n",
        "    Mayo = l[4]\n",
        "    Junio = l[5]\n",
        "    Julio = l[6]\n",
        "    Agosto = l[7]\n",
        "    Septiembre = l[8]\n",
        "    Octubre = l[9]\n",
        "    Noviembre = l[10]\n",
        "    Diciembre = l[11]\n",
        "\n",
        "\n",
        "\n",
        "    return round(año_fraccional,4), round(Declinacion_solar_grados,4), min, segs, tshr, tsmin, tsseg, round(Hora_angular_grados, 4), round(Angulo_cenital_grados, 4), Angulo_acimutal_grados, Amhr, Ammin, Amseg, Athr, Atmin, Atseg, Mehr, Memin, Meseg, Enero, Febrero, Marzo, Abril, Mayo, Junio, Julio, Agosto, Septiembre, Octubre, Noviembre, Diciembre\n",
        "\n",
        "demo = gr.Interface(fn=geometria_solar,\n",
        "                   inputs=[gr.Number(label=\"Dia\", info = \"Ingrese un dia entre 1 y 365\"),\n",
        "                           gr.Number(label = \"Hora local (Hr)\", info = \"\"), gr.Number(label = \"Hora local (min)\"),\n",
        "                           gr.Number(label = \"Hora local (seg)\"), gr.Number(label = \"GMT\", info = \"Ej. GMT-7, solo ingrese el '-7'\"),\n",
        "                           gr.Number(label = \"Longitud (°)\"), gr.Number(label = \"Longitud (min)\"), gr.Number(label = \"Longitud(seg)\"),\n",
        "                           gr.Checkbox(label = \"Este\", value = True, interactive = True),\n",
        "                           gr.Number(label = \"Latitud (°)\"), gr.Number(label = \"Latitud (min)\"), gr.Number(label = \"Latitud(seg)\"),\n",
        "                           gr.Checkbox(label = \"Norte\", value = True, interactive = True)\n",
        "                           ],\n",
        "                   outputs=[\n",
        "                            gr.Number(label=\"Año fraccional (Rad)\"), gr.Number(label=\"Declinacion solar (Grados)\"),\n",
        "                            gr.Number(label = \"Ecuacion del tiempo (min)\"), gr.Number(label = \"Ecuacion del tiempo (seg)\"),\n",
        "                            gr.Number(label = \"Tiempo solar (Hr)\"), gr.Number(label = \"Tiempo solar (min)\"),\n",
        "                            gr.Number(label = \"Tiempo solar (seg)\"), gr.Number(label = \"Hora angular (°)\"),\n",
        "                            gr.Number(label = \"Angulo cenital (Grados)\"),\n",
        "                            gr.Number(label = \"Angulo acimutal (Grados)\", info = \"Tomando al norte como referencia\"),\n",
        "                            gr.Number(label = \"Amanecer (Hr)\"), gr.Number(label = \"Amanecer (min)\"),\n",
        "                            gr.Number(label = \"Amanecer (seg)\"), gr.Number(label = \"Atardecer (Hr)\"), gr.Number(label = \"Atardecer (min)\"),\n",
        "                            gr.Number(label = \"Atardecer (seg)\"), gr.Number(label = \"Mediodia solar (Hr)\"),\n",
        "                            gr.Number(label = \"Mediodia solar (min)\"),\n",
        "                            gr.Number(label = \"Mediodia solar (seg)\"),\n",
        "                            gr.Number(label = \"Angulo de inclinacion optimo (Enero)\", info = \"Solamente se toma en cuenta la radiacion directa\"),\n",
        "                            gr.Number(label = \"Angulo de inclinacion optimo (Febrero)\", info = \"Solamente se toma en cuenta la radiacion directa\"),\n",
        "                            gr.Number(label = \"Angulo de inclinacion optimo (Marzo)\", info = \"Solamente se toma en cuenta la radiacion directa\"),\n",
        "                            gr.Number(label = \"Angulo de inclinacion optimo (Abril)\", info = \"Solamente se toma en cuenta la radiacion directa\"),\n",
        "                            gr.Number(label = \"Angulo de inclinacion optimo (Mayo)\", info = \"Solamente se toma en cuenta la radiacion directa\"),\n",
        "                            gr.Number(label = \"Angulo de inclinacion optimo (Junio)\", info = \"Solamente se toma en cuenta la radiacion directa\"),\n",
        "                            gr.Number(label = \"Angulo de inclinacion optimo (Julio)\", info = \"Solamente se toma en cuenta la radiacion directa\"),\n",
        "                            gr.Number(label = \"Angulo de inclinacion optimo (Agosto)\", info = \"Solamente se toma en cuenta la radiacion directa\"),\n",
        "                            gr.Number(label = \"Angulo de inclinacion optimo (Septiembre)\", info = \"Solamente se toma en cuenta la radiacion directa\"),\n",
        "                            gr.Number(label = \"Angulo de inclinacion optimo (Octubre)\", info = \"Solamente se toma en cuenta la radiacion directa\"),\n",
        "                            gr.Number(label = \"Angulo de inclinacion optimo (Noviembre)\", info = \"Solamente se toma en cuenta la radiacion directa\"),\n",
        "                            gr.Number(label = \"Angulo de inclinacion optimo (Diciembre)\", info = \"Solamente se toma en cuenta la radiacion directa\")\n",
        "                           ]\n",
        "                    )\n",
        "demo.launch(share = True)\n"
      ],
      "metadata": {
        "colab": {
          "base_uri": "https://localhost:8080/",
          "height": 593
        },
        "id": "KJEMOzVu1rXq",
        "outputId": "5fe50a78-6312-4b79-a1aa-34e196076ed4"
      },
      "execution_count": 5,
      "outputs": [
        {
          "output_type": "stream",
          "name": "stdout",
          "text": [
            "Colab notebook detected. To show errors in colab notebook, set debug=True in launch()\n",
            "Running on public URL: https://db672cd2d4852c65b0.gradio.live\n",
            "\n",
            "This share link expires in 72 hours. For free permanent hosting and GPU upgrades, run `gradio deploy` from Terminal to deploy to Spaces (https://huggingface.co/spaces)\n"
          ]
        },
        {
          "output_type": "display_data",
          "data": {
            "text/plain": [
              "<IPython.core.display.HTML object>"
            ],
            "text/html": [
              "<div><iframe src=\"https://db672cd2d4852c65b0.gradio.live\" width=\"100%\" height=\"500\" allow=\"autoplay; camera; microphone; clipboard-read; clipboard-write;\" frameborder=\"0\" allowfullscreen></iframe></div>"
            ]
          },
          "metadata": {}
        },
        {
          "output_type": "execute_result",
          "data": {
            "text/plain": []
          },
          "metadata": {},
          "execution_count": 5
        }
      ]
    }
  ]
}