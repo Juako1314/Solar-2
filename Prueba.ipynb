{
  "nbformat": 4,
  "nbformat_minor": 0,
  "metadata": {
    "colab": {
      "provenance": [],
      "authorship_tag": "ABX9TyONDHuzZrA78i+8jtFZXb+i",
      "include_colab_link": true
    },
    "kernelspec": {
      "name": "python3",
      "display_name": "Python 3"
    },
    "language_info": {
      "name": "python"
    }
  },
  "cells": [
    {
      "cell_type": "markdown",
      "metadata": {
        "id": "view-in-github",
        "colab_type": "text"
      },
      "source": [
        "<a href=\"https://colab.research.google.com/github/Juako1314/Solar-2/blob/main/Prueba.ipynb\" target=\"_parent\"><img src=\"https://colab.research.google.com/assets/colab-badge.svg\" alt=\"Open In Colab\"/></a>"
      ]
    },
    {
      "cell_type": "code",
      "source": [
        "%%capture\n",
        "!pip install gradio"
      ],
      "metadata": {
        "id": "-IOak-mTgBRP"
      },
      "execution_count": 2,
      "outputs": []
    },
    {
      "cell_type": "code",
      "execution_count": 37,
      "metadata": {
        "colab": {
          "base_uri": "https://localhost:8080/",
          "height": 593
        },
        "id": "wyrpjf98bR0-",
        "outputId": "e6b00e67-4381-4b7d-d120-543ff4748fac"
      },
      "outputs": [
        {
          "output_type": "stream",
          "name": "stdout",
          "text": [
            "Colab notebook detected. To show errors in colab notebook, set debug=True in launch()\n",
            "Running on public URL: https://efd1d227341676ca88.gradio.live\n",
            "\n",
            "This share link expires in 72 hours. For free permanent hosting and GPU upgrades, run `gradio deploy` from Terminal to deploy to Spaces (https://huggingface.co/spaces)\n"
          ]
        },
        {
          "output_type": "display_data",
          "data": {
            "text/plain": [
              "<IPython.core.display.HTML object>"
            ],
            "text/html": [
              "<div><iframe src=\"https://efd1d227341676ca88.gradio.live\" width=\"100%\" height=\"500\" allow=\"autoplay; camera; microphone; clipboard-read; clipboard-write;\" frameborder=\"0\" allowfullscreen></iframe></div>"
            ]
          },
          "metadata": {}
        },
        {
          "output_type": "execute_result",
          "data": {
            "text/plain": []
          },
          "metadata": {},
          "execution_count": 37
        }
      ],
      "source": [
        "from gradio.utils import T\n",
        "import gradio as gr\n",
        "import math as mt\n",
        "\n",
        "\n",
        "def geometria_solar(dia_del_año, GMT, hlhr, hlmin, hlseg, longrados, lonminutos, lonsegundos):#, latgrados, latminutos, latsegundos):\n",
        "    local_hour = hlhr + (hlmin/60) + (hlseg / 3600)\n",
        "    Longitud = longrados + (lonminutos / 60) + (lonsegundos / 3600)\n",
        "\n",
        "    def este_oeste(Longitud, eo):\n",
        "        Longitud = Longitud\n",
        "        if eo == True:\n",
        "            nl = Longitud\n",
        "        else:\n",
        "            nl = -Longitud\n",
        "        return nl\n",
        "\n",
        "    #Calcula la declinacion de la tierra con respecto al sol\n",
        "    declinacion_solar_grados = 23.45 * mt.sin((360*((284 + dia_del_año) / 365)) * (mt.pi / 180))\n",
        "    declinacion_solar_radianes = declinacion_solar_grados * (mt.pi / 180)\n",
        "\n",
        "    #Calcula el tiempo de diferencia entre la hora local con respecto a un reloj solar\n",
        "    B = ((dia_del_año - 1) * 360 / 365) * (mt.pi / 180)\n",
        "    ecuacion_del_tiempo = (229.2 / 60)*(0.000075+0.001868*mt.cos(B)-0.032077*mt.sin(B)-0.014615*mt.cos(2*B)-0.04089*mt.sin(2*B))\n",
        "    ecuacion_del_tiempo_min = ecuacion_del_tiempo * 60\n",
        "    min = int(ecuacion_del_tiempo_min)\n",
        "    segs = int((ecuacion_del_tiempo_min - min) * 60)\n",
        "\n",
        "    #Calcula el tiempo solar\n",
        "    longitud_estandar = GMT * 15\n",
        "    tiempo_solar = ecuacion_del_tiempo - (((4 * (longitud_estandar - este_oeste(Longitud, eo))) / 60)) + local_hour\n",
        "    slhr = int(tiempo_solar)\n",
        "    slmin = int((tiempo_solar - slhr) * 60)\n",
        "    slseg = int((((tiempo_solar - slhr) * 60) - int((tiempo_solar - slhr) * 60)) * 60)\n",
        "\n",
        "\n",
        "    return round(declinacion_solar_grados, 4), min, abs(segs), slhr, slmin, slseg\n",
        "\n",
        "#print(geometria_solar(dia_del_año))\n",
        "#########################################################################################\n",
        "\n",
        "with gr.Blocks() as demo:\n",
        "    #Entradas\n",
        "    with gr.Tab(\"Dia y zona horaria\"):\n",
        "        with gr.Row():\n",
        "            Day = gr.Number(label=\"Dia\")\n",
        "            GMTs = gr.Number(label = \"GMT\")\n",
        "    with gr.Tab(\"Hora local\"):\n",
        "        with gr.Row():\n",
        "            local_hour_hr = gr.Number(label = \"Horas\")\n",
        "            local_hour_min = gr.Number(label = \"Minutos\")\n",
        "            local_hour_seg = gr.Number(label = \"Segundos\")\n",
        "    with gr.Tab(\"Longitud\"):\n",
        "        with gr.Row():\n",
        "            longr = gr.Number(label = \"Grados\")\n",
        "            lonmin = gr.Number(label = \"Minutos\")\n",
        "            lonseg = gr.Number(label = \"Segundos\")\n",
        "        with gr.Row():\n",
        "            eo = gr.Checkbox(label = \"Este\", value = True, interactive = True)\n",
        "#    with gr.Tab(\"Latitud\"):\n",
        "#        with gr.Row():\n",
        "#            latgr = gr.Number(label = \"Grados\")\n",
        "#            latmin = gr.Number(label = \"Minutos\")\n",
        "#            latseg = gr.Number(label = \"Segundos\")\n",
        "#        with gr.Row():\n",
        "#            ns = gr.Checkbox(label = \"Norte\")\n",
        "\n",
        "\n",
        "    #Salidas\n",
        "    with gr.Tab(\"Resultados\"):\n",
        "        with gr.Row():\n",
        "            declination = gr.Number(label=\"Angulo de declinacio (Grados)\")\n",
        "        with gr.Row():\n",
        "            eqttimemin = gr.Number(label = \"Ecuacion del tiempo (min)\")\n",
        "            eqttimesegs = gr.Number(label = \"Ecuacion del tiempo (seg)\")\n",
        "        with gr.Row():\n",
        "            solar_time_hr = gr.Number(label = \"Tiempo solar (hr)\")\n",
        "            solar_time_min = gr.Number(label = \"Tiempo solar (min)\")\n",
        "            solar_time_seg = gr.Number(label = \"Tiempo solar (seg)\")\n",
        "#        with gr.Row():\n",
        "#            angular_hour = gr.Number(label = \"Hora angular (Grados)\")\n",
        "#            angular_altitude = gr.Number(label = \"Altura angular (Grados)\")\n",
        "#            azimuth = gr.Number(label = \"Angulo acimutal (Grados)\")\n",
        "#    with gr.Tab(\"Angulos optimos de inclinacion\"):\n",
        "#        with gr.Row():\n",
        "#            January = gr.Number(label = \"Enero\")\n",
        "#            February = gr.Number(label = \"Febrero\")\n",
        "#            March = gr.Number(label = \"Marzo\")\n",
        "#            April = gr.Number(label = \"Abril\")\n",
        "#            May = gr.Number(label = \"Mayo\")\n",
        "#            June = gr.Number(label = \"Junio\")\n",
        "#        with gr.Row():\n",
        "#            July = gr.Number(label = \"Julio\")\n",
        "#            August = gr.Number(label = \"Agosto\")\n",
        "#            September = gr.Number(label = \"Septiembre\")\n",
        "#            October = gr.Number(label = \"Octubre\")\n",
        "#            November = gr.Number(label = \"Noviembre\")\n",
        "#            December = gr.Number(label = \"Diciembre\")\n",
        "\n",
        "    Calcular_btn = gr.Button(\"Calcular\")\n",
        "    Calcular_btn.click(fn=geometria_solar,\n",
        "                       inputs=[Day, GMTs,local_hour_hr, local_hour_min, local_hour_seg, longr, lonmin, lonseg],#, latgr, latmin, latseg],\n",
        "                       outputs=[declination, eqttimemin, eqttimesegs, solar_time_hr, solar_time_min, solar_time_seg]#, angular_hour, angular_altitude, azimuth, January, February, March, April, May, June, July, August, September, October, November, December]\n",
        "                       )\n",
        "\n",
        "demo.launch(share = True)\n"
      ]
    },
    {
      "cell_type": "code",
      "source": [],
      "metadata": {
        "id": "npTCVJ_Jb3PS"
      },
      "execution_count": 35,
      "outputs": []
    }
  ]
}